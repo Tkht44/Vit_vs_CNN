{
 "cells": [
  {
   "cell_type": "markdown",
   "id": "a061beb6",
   "metadata": {},
   "source": [
    "# トレーニングデータのインポート & チェック"
   ]
  },
  {
   "cell_type": "code",
   "execution_count": null,
   "id": "c888b589",
   "metadata": {},
   "outputs": [],
   "source": []
  },
  {
   "cell_type": "code",
   "execution_count": 11,
   "id": "266e1b28",
   "metadata": {},
   "outputs": [],
   "source": [
    "# import needed file\n",
    "import numpy as np\n",
    "import matplotlib.pyplot as plt\n",
    "import torch\n",
    "import torchvision\n",
    "import torchvision.transforms as transforms\n",
    "import torch.nn as nn\n"
   ]
  },
  {
   "cell_type": "code",
   "execution_count": 12,
   "id": "b85b93e7",
   "metadata": {},
   "outputs": [
    {
     "name": "stderr",
     "output_type": "stream",
     "text": [
      "100%|██████████| 170M/170M [01:23<00:00, 2.04MB/s] \n"
     ]
    }
   ],
   "source": [
    "# import data\n",
    "transforms = transforms.Compose(\n",
    "    [\n",
    "        transforms.ToTensor(), \n",
    "        transforms.Normalize((0.5,0.5,0.5),(0.5,0.5,0.5))\n",
    "    ]\n",
    ")\n",
    "\n",
    "trainset = torchvision.datasets.CIFAR10(root='./data', train=True, download=True, transform=transforms)\n",
    "trainloader = torch.utils.data.DataLoader(trainset, batch_size=4, shuffle=True, num_workers=2)\n",
    "\n",
    "testset = torchvision.datasets.CIFAR10(root='./data', train=False, download=True, transform=transforms)\n",
    "testloader = torch.utils.data.DataLoader(testset, batch_size=4, shuffle=True, num_workers=2)\n"
   ]
  },
  {
   "cell_type": "code",
   "execution_count": 15,
   "id": "a31ed2b9",
   "metadata": {},
   "outputs": [
    {
     "name": "stdout",
     "output_type": "stream",
     "text": [
      "(50000, 32, 32, 3)\n",
      "(10000, 32, 32, 3)\n",
      "['airplane', 'automobile', 'bird', 'cat', 'deer', 'dog', 'frog', 'horse', 'ship', 'truck']\n"
     ]
    }
   ],
   "source": [
    "print(trainset.data.shape)\n",
    "(50000, 32, 32, 3)\n",
    "\n",
    "# テスト用データセット：縦横32ピクセルのRGBの画像が10000枚\n",
    "print(testset.data.shape)\n",
    "(10000, 32, 32, 3)\n",
    "\n",
    "# クラス一覧を確認する\n",
    "print(trainset.classes)\n",
    "['airplane', 'automobile', 'bird', 'cat', 'deer', 'dog', 'frog', 'horse', 'ship', 'truck']\n",
    "\n",
    "# classesはよく利用するので別途保持しておく\n",
    "classes = trainset.classes"
   ]
  },
  {
   "cell_type": "code",
   "execution_count": 19,
   "id": "81977988",
   "metadata": {},
   "outputs": [
    {
     "name": "stdout",
     "output_type": "stream",
     "text": [
      "<class 'torch.Tensor'>\n",
      "<class 'numpy.ndarray'>\n",
      "(3, 36, 138)\n",
      "(36, 138, 3)\n"
     ]
    },
    {
     "data": {
      "image/png": "[encoded data removed]",
      "text/plain": [
       "<Figure size 640x480 with 1 Axes>"
      ]
     },
     "metadata": {},
     "output_type": "display_data"
    },
    {
     "name": "stdout",
     "output_type": "stream",
     "text": [
      "airplane   cat airplane automobile\n"
     ]
    }
   ],
   "source": [
    "def imshow(img):\n",
    "    # 非正規化する\n",
    "    img = img / 2 + 0.5\n",
    "    # torch.Tensor型からnumpy.ndarray型に変換する\n",
    "    print(type(img)) # <class 'torch.Tensor'>\n",
    "    npimg = img.numpy()\n",
    "    print(type(npimg))    \n",
    "    # 形状を（RGB、縦、横）から（縦、横、RGB）に変換する\n",
    "    print(npimg.shape)\n",
    "    npimg = np.transpose(npimg, (1, 2, 0))\n",
    "    print(npimg.shape)\n",
    "    # 画像を表示する\n",
    "    plt.imshow(npimg)\n",
    "    plt.show()\n",
    "\n",
    "dataiter = iter(trainloader)\n",
    "images, labels = next(dataiter)\n",
    "imshow(torchvision.utils.make_grid(images))\n",
    "print(' '.join('%5s' % classes[labels[j]] for j in range(4)))"
   ]
  },
  {
   "cell_type": "code",
   "execution_count": 87,
   "id": "16d57037",
   "metadata": {},
   "outputs": [],
   "source": [
    "# 別ファイルのimport\n",
    "import sys\n",
    "sys.path.append('/workspace/Vit_vs_CNN')\n",
    "import cnn\n",
    "import vit"
   ]
  },
  {
   "cell_type": "code",
   "execution_count": 88,
   "id": "2a3a1a48",
   "metadata": {},
   "outputs": [
    {
     "ename": "AttributeError",
     "evalue": "module 'cnn' has no attribute 'CNN'",
     "output_type": "error",
     "traceback": [
      "\u001b[31m---------------------------------------------------------------------------\u001b[39m",
      "\u001b[31mAttributeError\u001b[39m                            Traceback (most recent call last)",
      "\u001b[36mCell\u001b[39m\u001b[36m \u001b[39m\u001b[32mIn[88]\u001b[39m\u001b[32m, line 3\u001b[39m\n\u001b[32m      1\u001b[39m device = torch.device(\u001b[33m\"\u001b[39m\u001b[33mcuda:0\u001b[39m\u001b[33m\"\u001b[39m \u001b[38;5;28;01mif\u001b[39;00m torch.cuda.is_available() \u001b[38;5;28;01melse\u001b[39;00m \u001b[33m\"\u001b[39m\u001b[33mcpu\u001b[39m\u001b[33m\"\u001b[39m) \n\u001b[32m----> \u001b[39m\u001b[32m3\u001b[39m net = \u001b[43mcnn\u001b[49m\u001b[43m.\u001b[49m\u001b[43mCNN\u001b[49m()\n\u001b[32m      6\u001b[39m \u001b[38;5;66;03m# 損失関数\u001b[39;00m\n\u001b[32m      7\u001b[39m criterion = nn.CrossEntropyLoss()\n",
      "\u001b[31mAttributeError\u001b[39m: module 'cnn' has no attribute 'CNN'"
     ]
    }
   ],
   "source": [
    "device = torch.device(\"cuda:0\" if torch.cuda.is_available() else \"cpu\") \n",
    "\n",
    "net = cnn.CNN()\n",
    "\n",
    "\n",
    "# 損失関数\n",
    "criterion = nn.CrossEntropyLoss()\n",
    "# CNNオプティマイザの設定\n",
    "optimizer_cnn = torch.optim.SGD(cnn.parameters(),lr = 0.001, momentum=0.9)\n"
   ]
  },
  {
   "cell_type": "markdown",
   "id": "dcaee7e4",
   "metadata": {},
   "source": [
    "# ViTでの学習"
   ]
  },
  {
   "cell_type": "code",
   "execution_count": null,
   "id": "03028cbd",
   "metadata": {},
   "outputs": [],
   "source": [
    "\n"
   ]
  },
  {
   "cell_type": "markdown",
   "id": "c66f0310",
   "metadata": {},
   "source": [
    "# CNNでの学習"
   ]
  },
  {
   "cell_type": "code",
   "execution_count": null,
   "id": "baed150e",
   "metadata": {},
   "outputs": [],
   "source": [
    "from cnn import CNN"
   ]
  },
  {
   "cell_type": "markdown",
   "id": "a3c30802",
   "metadata": {},
   "source": [
    "# 比較"
   ]
  },
  {
   "cell_type": "code",
   "execution_count": null,
   "id": "c51e0376",
   "metadata": {},
   "outputs": [],
   "source": []
  }
 ],
 "metadata": {
  "kernelspec": {
   "display_name": "Python 3",
   "language": "python",
   "name": "python3"
  },
  "language_info": {
   "codemirror_mode": {
    "name": "ipython",
    "version": 3
   },
   "file_extension": ".py",
   "mimetype": "text/x-python",
   "name": "python",
   "nbconvert_exporter": "python",
   "pygments_lexer": "ipython3",
   "version": "3.12.8"
  }
 },
 "nbformat": 4,
 "nbformat_minor": 5
}
