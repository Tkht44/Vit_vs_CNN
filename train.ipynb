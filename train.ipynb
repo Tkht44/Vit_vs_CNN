{
  "cells": [
    {
      "cell_type": "markdown",
      "metadata": {
        "colab_type": "text",
        "id": "view-in-github"
      },
      "source": [
        "<a href=\"https://colab.research.google.com/github/Tkht44/Vit_vs_CNN/blob/main/train.ipynb\" target=\"_parent\"><img src=\"https://colab.research.google.com/assets/colab-badge.svg\" alt=\"Open In Colab\"/></a>"
      ]
    },
    {
      "cell_type": "markdown",
      "id": "a061beb6",
      "metadata": {
        "id": "a061beb6"
      },
      "source": [
        "# トレーニングデータのインポート & チェック"
      ]
    },
    {
      "cell_type": "code",
      "execution_count": 48,
      "id": "266e1b28",
      "metadata": {
        "id": "266e1b28"
      },
      "outputs": [],
      "source": [
        "# import needed file\n",
        "import numpy as np\n",
        "import matplotlib.pyplot as plt\n",
        "import torch\n",
        "import torchvision\n",
        "import torchvision.transforms as transforms\n",
        "import torch.nn as nn\n"
      ]
    },
    {
      "cell_type": "code",
      "execution_count": 49,
      "id": "b85b93e7",
      "metadata": {
        "id": "b85b93e7"
      },
      "outputs": [],
      "source": [
        "# import data\n",
        "transforms = transforms.Compose(\n",
        "    [\n",
        "        transforms.ToTensor(),\n",
        "        transforms.Normalize((0.5,0.5,0.5),(0.5,0.5,0.5))\n",
        "    ]\n",
        ")\n",
        "\n",
        "# ハイパーパラメータの設定\n",
        "batch_size = 100\n",
        "epochs = 10\n",
        "\n",
        "# 訓練データ\n",
        "trainset = torchvision.datasets.CIFAR10(root='./data', train=True, download=True, transform=transforms)\n",
        "trainloader = torch.utils.data.DataLoader(trainset, batch_size=batch_size, shuffle=True, num_workers=2)\n",
        "\n",
        "# テストデータ\n",
        "testset = torchvision.datasets.CIFAR10(root='./data', train=False, download=True, transform=transforms)\n",
        "testloader = torch.utils.data.DataLoader(testset, batch_size=batch_size, shuffle=True, num_workers=2)\n"
      ]
    },
    {
      "cell_type": "code",
      "execution_count": null,
      "id": "a31ed2b9",
      "metadata": {
        "colab": {
          "base_uri": "https://localhost:8080/"
        },
        "id": "a31ed2b9",
        "outputId": "b9f95626-7764-4c8d-825d-3b2c8cf36a58"
      },
      "outputs": [],
      "source": [
        "print(trainset.data.shape)\n",
        "(50000, 32, 32, 3)\n",
        "\n",
        "# テスト用データセット：縦横32ピクセルのRGBの画像が10000枚\n",
        "print(testset.data.shape)\n",
        "(10000, 32, 32, 3)\n",
        "\n",
        "# クラス一覧を確認する\n",
        "print(trainset.classes)\n",
        "['airplane', 'automobile', 'bird', 'cat', 'deer', 'dog', 'frog', 'horse', 'ship', 'truck']\n",
        "\n",
        "# classesはよく利用するので別途保持しておく\n",
        "classes = trainset.classes"
      ]
    },
    {
      "cell_type": "code",
      "execution_count": null,
      "id": "81977988",
      "metadata": {
        "colab": {
          "base_uri": "https://localhost:8080/",
          "height": 522
        },
        "id": "81977988",
        "outputId": "d4ca0365-d5ca-4a38-98d0-87fb4f75b4ed"
      },
      "outputs": [],
      "source": [
        "def imshow(img):\n",
        "    # 非正規化する\n",
        "    img = img / 2 + 0.5\n",
        "    # torch.Tensor型からnumpy.ndarray型に変換する\n",
        "    print(type(img)) # <class 'torch.Tensor'>\n",
        "    npimg = img.numpy()\n",
        "    print(type(npimg))\n",
        "    # 形状を（RGB、縦、横）から（縦、横、RGB）に変換する\n",
        "    print(npimg.shape)\n",
        "    npimg = np.transpose(npimg, (1, 2, 0))\n",
        "    print(npimg.shape)\n",
        "    # 画像を表示する\n",
        "    plt.imshow(npimg)\n",
        "    plt.show()\n",
        "\n",
        "dataiter = iter(trainloader)\n",
        "images, labels = next(dataiter)\n",
        "imshow(torchvision.utils.make_grid(images))\n",
        "print(' '.join('%5s' % classes[labels[j]] for j in range(4)))"
      ]
    },
    {
      "cell_type": "code",
      "execution_count": null,
      "id": "16d57037",
      "metadata": {
        "id": "16d57037"
      },
      "outputs": [],
      "source": [
        "# 別ファイルのimport\n",
        "import cnn\n",
        "import vit"
      ]
    },
    {
      "cell_type": "code",
      "execution_count": null,
      "id": "2a3a1a48",
      "metadata": {
        "colab": {
          "base_uri": "https://localhost:8080/"
        },
        "id": "2a3a1a48",
        "outputId": "8deb399e-7b9b-432b-f4b0-c318dd723585"
      },
      "outputs": [],
      "source": [
        "device = torch.device(\"cuda:0\" if torch.cuda.is_available() else \"cpu\")\n",
        "print(device)\n",
        "\n",
        "# パラメータの調整\n",
        "cnn_net = cnn.Net(\n",
        "    class_num=10,\n",
        "    conv_size=[3,6,16],\n",
        "    linear_size=[120,84]\n",
        ")\n",
        "vit_net = vit.Net(\n",
        "    image_size=32, # height = width = image_size\n",
        "    patch_size=4,\n",
        "    n_classes=10,\n",
        "    dim=256,\n",
        "    depth=3,\n",
        "    n_heads=4,\n",
        "    mlp_dim=256,\n",
        ")\n",
        "\n",
        "cnn_net.to(device)\n",
        "vit_net.to(device)\n",
        "\n",
        "# 損失関数\n",
        "criterion = nn.CrossEntropyLoss()\n",
        "# CNNオプティマイザの設定\n",
        "optimizer_cnn = torch.optim.SGD(cnn_net.parameters(),lr = 0.001, momentum=0.9)\n",
        "optimizer_vit = torch.optim.SGD(vit_net.parameters(),lr = 0.001, momentum=0.9)\n"
      ]
    },
    {
      "cell_type": "code",
      "execution_count": null,
      "id": "3397a56e",
      "metadata": {
        "colab": {
          "base_uri": "https://localhost:8080/"
        },
        "id": "3397a56e",
        "outputId": "92fafd47-84b9-409a-cfeb-d5d41e5f312e"
      },
      "outputs": [],
      "source": [
        "print(cnn_net)\n",
        "print(vit_net)"
      ]
    },
    {
      "cell_type": "markdown",
      "id": "dcaee7e4",
      "metadata": {
        "id": "dcaee7e4"
      },
      "source": [
        "# ViTでの学習"
      ]
    },
    {
      "cell_type": "code",
      "execution_count": null,
      "id": "03028cbd",
      "metadata": {
        "colab": {
          "base_uri": "https://localhost:8080/"
        },
        "id": "03028cbd",
        "outputId": "973574da-637f-4d49-86fa-9eb6c7d73a0d"
      },
      "outputs": [],
      "source": [
        "# トレーニングする\n",
        "\n",
        "for epoch in range(epochs):\n",
        "    train_loss = 0.0\n",
        "    train_acc = 0.0\n",
        "    test_loss = 0.0\n",
        "    train_loss = 0.0\n",
        "    for i, data in enumerate(trainloader, 0):\n",
        "        inputs, labels = data\n",
        "        inputs, labels = inputs.to(device), labels.to(device)\n",
        "\n",
        "        optimizer_vit.zero_grad()\n",
        "        outputs = vit_net(inputs)\n",
        "        loss = criterion(outputs, labels)\n",
        "\n",
        "        # 誤差逆伝播\n",
        "        loss.backward()\n",
        "        optimizer_vit.step()\n",
        "        # 損失と精度の計算\n",
        "        train_loss += loss.item()/len(trainloader)\n",
        "        acc = (outputs.argmax(dim=1) == labels).float().mean()\n",
        "        train_acc += acc/len(trainloader)\n",
        "        del inputs\n",
        "        del outputs\n",
        "        del loss\n",
        "    vit_net.eval()\n",
        "    with torch.no_grad():\n",
        "            for data in testloader:\n",
        "                inputs, labels = data[0].to(device), data[1].to(device)\n",
        "                outputs = vit_net(inputs)\n",
        "                loss = criterion(outputs, labels)\n",
        "                test_loss += loss.item()/len(testloader)\n",
        "                test_acc = (outputs.argmax(dim=1) == labels).float().mean()\n",
        "                test_acc += test_acc/len(testloader)\n",
        "\n",
        "    print(f'Epoch {epoch+1} : train acc. {train_acc:.2f} train loss {train_loss:.2f}')\n",
        "    print(f'Epoch {epoch+1} : test acc. {test_acc:.2f} test loss {test_loss:.2f}')\n",
        "print('Finished Training')"
      ]
    },
    {
      "cell_type": "markdown",
      "id": "c66f0310",
      "metadata": {
        "id": "c66f0310"
      },
      "source": [
        "# CNNでの学習"
      ]
    },
    {
      "cell_type": "code",
      "execution_count": null,
      "id": "baed150e",
      "metadata": {
        "colab": {
          "base_uri": "https://localhost:8080/"
        },
        "id": "baed150e",
        "outputId": "d8bc251f-c5cf-4917-cb1f-06cd9cf6e6ea"
      },
      "outputs": [],
      "source": [
        "# トレーニングする\n",
        "for epoch in range(epochs):\n",
        "    train_loss = 0.0\n",
        "    train_acc = 0.0\n",
        "    test_loss = 0.0\n",
        "    train_loss = 0.0\n",
        "    for i, data in enumerate(trainloader, 0):\n",
        "        inputs, labels = data\n",
        "        inputs, labels = inputs.to(device), labels.to(device)\n",
        "\n",
        "        optimizer_cnn.zero_grad()\n",
        "        outputs = cnn_net(inputs)\n",
        "        # 誤差逆伝播\n",
        "        loss = criterion(outputs, labels)\n",
        "        loss.backward()\n",
        "        optimizer_cnn.step()\n",
        "        # 損失と精度の計算\n",
        "        train_loss += loss.item()/len(trainloader)\n",
        "        acc = (outputs.argmax(dim=1) == labels).float().mean()\n",
        "        train_acc += acc/len(trainloader)\n",
        "        del inputs\n",
        "        del outputs\n",
        "        del loss\n",
        "    cnn_net.eval()\n",
        "    with torch.no_grad():\n",
        "            for data in testloader:\n",
        "                inputs, labels = data[0].to(device), data[1].to(device)\n",
        "                outputs = cnn_net(inputs)\n",
        "                loss = criterion(outputs, labels)\n",
        "                test_loss += loss.item()/len(testloader)\n",
        "                test_acc = (outputs.argmax(dim=1) == labels).float().mean()\n",
        "                test_acc += test_acc/len(testloader)\n",
        "\n",
        "    print(f'Epoch {epoch+1} : train acc. {train_acc:.2f} train loss {train_loss:.2f}')\n",
        "    print(f'Epoch {epoch+1} : test acc. {test_acc:.2f} test loss {test_loss:.2f}')\n",
        "print('Finished Training')"
      ]
    },
    {
      "cell_type": "code",
      "execution_count": null,
      "id": "7d12f996",
      "metadata": {
        "id": "7d12f996"
      },
      "outputs": [],
      "source": [
        "cnn_Path = './cnn_cifar_net.pth'\n",
        "vit_Path = './vit_cifar_net.pth'\n",
        "torch.save(cnn_net.state_dict(),cnn_Path)\n",
        "torch.save(vit_net.state_dict(), vit_Path)"
      ]
    },
    {
      "cell_type": "markdown",
      "id": "a3c30802",
      "metadata": {
        "id": "a3c30802"
      },
      "source": [
        "# 比較"
      ]
    },
    {
      "cell_type": "code",
      "execution_count": null,
      "id": "362d336c",
      "metadata": {},
      "outputs": [
        {
          "name": "stdout",
          "output_type": "stream",
          "text": [
            "cpu\n"
          ]
        },
        {
          "data": {
            "text/plain": [
              "<All keys matched successfully>"
            ]
          },
          "execution_count": 34,
          "metadata": {},
          "output_type": "execute_result"
        }
      ],
      "source": [
        "device = torch.device(\"cuda:0\" if torch.cuda.is_available() else \"cpu\")\n",
        "print(device)\n",
        "\n",
        "\n",
        "cnn_Path = './cnn_cifar_net.pth'\n",
        "vit_Path = './vit_cifar_net.pth'\n",
        "cnn_net = cnn.Net(\n",
        "    class_num=10,\n",
        "    conv_size=[3,6,16],\n",
        "    linear_size=[120,84]\n",
        ")\n",
        "vit_net = vit.Net(\n",
        "    image_size=32, # height = width = image_size\n",
        "    patch_size=4,\n",
        "    n_classes=10,\n",
        "    dim=256,\n",
        "    depth=3,\n",
        "    n_heads=4,\n",
        "    mlp_dim=256,\n",
        "    \n",
        ")\n",
        "\n",
        "cnn_net.load_state_dict(torch.load(cnn_Path, map_location=device))\n",
        "vit_net.load_state_dict(torch.load(vit_Path, map_location=device))"
      ]
    },
    {
      "cell_type": "code",
      "execution_count": null,
      "id": "c51e0376",
      "metadata": {
        "id": "c51e0376"
      },
      "outputs": [
        {
          "name": "stdout",
          "output_type": "stream",
          "text": [
            "Accuracy of \t : \t CNN \t ViT\n",
            "Accuracy of airplane \t:\t 44 % \t 55 %\n",
            "Accuracy of automobile \t:\t 57 % \t 67 %\n",
            "Accuracy of  bird \t:\t 23 % \t 37 %\n",
            "Accuracy of   cat \t:\t 34 % \t 35 %\n",
            "Accuracy of  deer \t:\t 31 % \t 35 %\n",
            "Accuracy of   dog \t:\t 48 % \t 48 %\n",
            "Accuracy of  frog \t:\t 57 % \t 62 %\n",
            "Accuracy of horse \t:\t 58 % \t 49 %\n",
            "Accuracy of  ship \t:\t 48 % \t 65 %\n",
            "Accuracy of truck \t:\t 62 % \t 45 %\n"
          ]
        }
      ],
      "source": [
        "cnn_class_correct = list(0. for i in range(10))\n",
        "cnn_class_total = list(0. for i in range(10))\n",
        "vit_class_correct = list(0. for i in range(10))\n",
        "vit_class_total = list(0. for i in range(10))\n",
        "with torch.no_grad():\n",
        "    for data in testloader:\n",
        "        images, labels = data\n",
        "        cnn_outputs = cnn_net(images)\n",
        "        vit_outputs = vit_net(images)\n",
        "        _, cnn_predicted = torch.max(cnn_outputs, 1)\n",
        "        _, vit_predicted = torch.max(vit_outputs, 1)\n",
        "        c = (cnn_predicted == labels).squeeze()\n",
        "        v = (vit_predicted == labels).squeeze()\n",
        "        for i in range(batch_size):\n",
        "            label = labels[i]\n",
        "            cnn_class_correct[label] += c[i].item()\n",
        "            vit_class_correct[label] += v[i].item()    \n",
        "            cnn_class_total[label] += 1\n",
        "            vit_class_total[label] += 1\n",
        "print('Accuracy of \\t : \\t \\t CNN \\t ViT')\n",
        "for i in range(10):\n",
        "    print('Accuracy of %5s \\t:\\t %2d %% \\t %2d %%' % (classes[i], 100 * cnn_class_correct[i] / cnn_class_total[i], 100 * vit_class_correct[i] / vit_class_total[i]))"
      ]
    }
  ],
  "metadata": {
    "accelerator": "GPU",
    "colab": {
      "gpuType": "T4",
      "include_colab_link": true,
      "provenance": []
    },
    "kernelspec": {
      "display_name": "Python 3",
      "name": "python3"
    },
    "language_info": {
      "codemirror_mode": {
        "name": "ipython",
        "version": 3
      },
      "file_extension": ".py",
      "mimetype": "text/x-python",
      "name": "python",
      "nbconvert_exporter": "python",
      "pygments_lexer": "ipython3",
      "version": "3.12.8"
    }
  },
  "nbformat": 4,
  "nbformat_minor": 5
}
