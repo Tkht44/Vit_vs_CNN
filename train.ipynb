{
  "cells": [
    {
      "cell_type": "markdown",
      "metadata": {
        "id": "view-in-github",
        "colab_type": "text"
      },
      "source": [
        "<a href=\"https://colab.research.google.com/github/Tkht44/Vit_vs_CNN/blob/main/train.ipynb\" target=\"_parent\"><img src=\"https://colab.research.google.com/assets/colab-badge.svg\" alt=\"Open In Colab\"/></a>"
      ]
    },
    {
      "cell_type": "markdown",
      "id": "a061beb6",
      "metadata": {
        "id": "a061beb6"
      },
      "source": [
        "# トレーニングデータのインポート & チェック"
      ]
    },
    {
      "cell_type": "code",
      "execution_count": 8,
      "id": "266e1b28",
      "metadata": {
        "id": "266e1b28"
      },
      "outputs": [],
      "source": [
        "# import needed file\n",
        "import numpy as np\n",
        "import matplotlib.pyplot as plt\n",
        "import torch\n",
        "import torchvision\n",
        "import torchvision.transforms as transforms\n",
        "import torch.nn as nn\n"
      ]
    },
    {
      "cell_type": "code",
      "execution_count": 9,
      "id": "b85b93e7",
      "metadata": {
        "id": "b85b93e7"
      },
      "outputs": [],
      "source": [
        "# import data\n",
        "transforms = transforms.Compose(\n",
        "    [\n",
        "        transforms.ToTensor(),\n",
        "        transforms.Normalize((0.5,0.5,0.5),(0.5,0.5,0.5))\n",
        "    ]\n",
        ")\n",
        "\n",
        "trainset = torchvision.datasets.CIFAR10(root='./data', train=True, download=True, transform=transforms)\n",
        "trainloader = torch.utils.data.DataLoader(trainset, batch_size=4, shuffle=True, num_workers=2)\n",
        "\n",
        "testset = torchvision.datasets.CIFAR10(root='./data', train=False, download=True, transform=transforms)\n",
        "testloader = torch.utils.data.DataLoader(testset, batch_size=4, shuffle=True, num_workers=2)\n"
      ]
    },
    {
      "cell_type": "code",
      "execution_count": 10,
      "id": "a31ed2b9",
      "metadata": {
        "colab": {
          "base_uri": "https://localhost:8080/"
        },
        "id": "a31ed2b9",
        "outputId": "7085a8ab-c7a5-4493-9ce7-e93e781c4299"
      },
      "outputs": [
        {
          "output_type": "stream",
          "name": "stdout",
          "text": [
            "(50000, 32, 32, 3)\n",
            "(10000, 32, 32, 3)\n",
            "['airplane', 'automobile', 'bird', 'cat', 'deer', 'dog', 'frog', 'horse', 'ship', 'truck']\n"
          ]
        }
      ],
      "source": [
        "print(trainset.data.shape)\n",
        "(50000, 32, 32, 3)\n",
        "\n",
        "# テスト用データセット：縦横32ピクセルのRGBの画像が10000枚\n",
        "print(testset.data.shape)\n",
        "(10000, 32, 32, 3)\n",
        "\n",
        "# クラス一覧を確認する\n",
        "print(trainset.classes)\n",
        "['airplane', 'automobile', 'bird', 'cat', 'deer', 'dog', 'frog', 'horse', 'ship', 'truck']\n",
        "\n",
        "# classesはよく利用するので別途保持しておく\n",
        "classes = trainset.classes"
      ]
    },
    {
      "cell_type": "code",
      "execution_count": 11,
      "id": "81977988",
      "metadata": {
        "colab": {
          "base_uri": "https://localhost:8080/",
          "height": 280
        },
        "id": "81977988",
        "outputId": "64fbd25c-c42e-4d72-9726-1c9446ff6d8f"
      },
      "outputs": [
        {
          "output_type": "stream",
          "name": "stdout",
          "text": [
            "<class 'torch.Tensor'>\n",
            "<class 'numpy.ndarray'>\n",
            "(3, 36, 138)\n",
            "(36, 138, 3)\n"
          ]
        },
        {
          "output_type": "display_data",
          "data": {
            "text/plain": [
              "<Figure size 640x480 with 1 Axes>"
            ],
            "image/png": "[encoded data removed]"
          },
          "metadata": {}
        },
        {
          "output_type": "stream",
          "name": "stdout",
          "text": [
            " deer truck airplane   dog\n"
          ]
        }
      ],
      "source": [
        "def imshow(img):\n",
        "    # 非正規化する\n",
        "    img = img / 2 + 0.5\n",
        "    # torch.Tensor型からnumpy.ndarray型に変換する\n",
        "    print(type(img)) # <class 'torch.Tensor'>\n",
        "    npimg = img.numpy()\n",
        "    print(type(npimg))\n",
        "    # 形状を（RGB、縦、横）から（縦、横、RGB）に変換する\n",
        "    print(npimg.shape)\n",
        "    npimg = np.transpose(npimg, (1, 2, 0))\n",
        "    print(npimg.shape)\n",
        "    # 画像を表示する\n",
        "    plt.imshow(npimg)\n",
        "    plt.show()\n",
        "\n",
        "dataiter = iter(trainloader)\n",
        "images, labels = next(dataiter)\n",
        "imshow(torchvision.utils.make_grid(images))\n",
        "print(' '.join('%5s' % classes[labels[j]] for j in range(4)))"
      ]
    },
    {
      "cell_type": "code",
      "execution_count": 12,
      "id": "16d57037",
      "metadata": {
        "id": "16d57037"
      },
      "outputs": [],
      "source": [
        "# 別ファイルのimport\n",
        "import cnn\n",
        "import vit"
      ]
    },
    {
      "cell_type": "code",
      "execution_count": 13,
      "id": "2a3a1a48",
      "metadata": {
        "colab": {
          "base_uri": "https://localhost:8080/"
        },
        "id": "2a3a1a48",
        "outputId": "a164ebd0-60ef-4c98-f798-c4f8afb13caa"
      },
      "outputs": [
        {
          "output_type": "stream",
          "name": "stdout",
          "text": [
            "cuda:0\n"
          ]
        }
      ],
      "source": [
        "device = torch.device(\"cuda:0\" if torch.cuda.is_available() else \"cpu\")\n",
        "print(device)\n",
        "\n",
        "cnn_net = cnn.Net(\n",
        "    class_num=10,\n",
        "    conv_size=[3,6,16],\n",
        "    linear_size=[120,84]\n",
        ")\n",
        "vit_net = vit.Net(\n",
        "    image_size=32,\n",
        "    patch_size=4,\n",
        "    n_classes=10,\n",
        "    dim=256,\n",
        "    depth=3,\n",
        "    n_heads=4,\n",
        "    mlp_dim=256,\n",
        ")\n",
        "\n",
        "cnn_net.to(device)\n",
        "vit_net.to(device)\n",
        "\n",
        "# 損失関数\n",
        "criterion = nn.CrossEntropyLoss()\n",
        "# CNNオプティマイザの設定\n",
        "optimizer_cnn = torch.optim.SGD(cnn_net.parameters(),lr = 0.001, momentum=0.9)\n",
        "optimizer_vit = torch.optim.SGD(vit_net.parameters(),lr = 0.001, momentum=0.9)"
      ]
    },
    {
      "cell_type": "code",
      "execution_count": 14,
      "id": "3397a56e",
      "metadata": {
        "colab": {
          "base_uri": "https://localhost:8080/"
        },
        "id": "3397a56e",
        "outputId": "f427908e-e8f0-43de-ccc2-2c619f25fb81"
      },
      "outputs": [
        {
          "output_type": "stream",
          "name": "stdout",
          "text": [
            "Net(\n",
            "  (conv1): Conv2d(3, 6, kernel_size=(5, 5), stride=(1, 1))\n",
            "  (pool): MaxPool2d(kernel_size=2, stride=2, padding=0, dilation=1, ceil_mode=False)\n",
            "  (conv2): Conv2d(6, 16, kernel_size=(5, 5), stride=(1, 1))\n",
            "  (fc1): Linear(in_features=400, out_features=120, bias=True)\n",
            "  (fc2): Linear(in_features=120, out_features=84, bias=True)\n",
            "  (fc3): Linear(in_features=84, out_features=10, bias=True)\n",
            "  (relu): ReLU()\n",
            ")\n",
            "Net(\n",
            "  (patching): Patching(\n",
            "    (net): Rearrange('b c (h ph) (w pw) -> b (h w) (ph pw c)', ph=4, pw=4)\n",
            "  )\n",
            "  (linear_projection_of_flattened_patches): LinearProjection(\n",
            "    (net): Linear(in_features=48, out_features=256, bias=True)\n",
            "  )\n",
            "  (embedding): Embedding()\n",
            "  (transformer_encoder): TransformerEncoder(\n",
            "    (norm): LayerNorm((256,), eps=1e-05, elementwise_affine=True)\n",
            "    (multi_head_attention): MultiHeadAttention(\n",
            "      (W_q): Linear(in_features=256, out_features=256, bias=True)\n",
            "      (W_k): Linear(in_features=256, out_features=256, bias=True)\n",
            "      (W_v): Linear(in_features=256, out_features=256, bias=True)\n",
            "      (split_into_heads): Rearrange('b n (h d) -> b h n d', h=4)\n",
            "      (softmax): Softmax(dim=-1)\n",
            "      (concat): Rearrange('b h n d -> b n (h d)', h=4)\n",
            "    )\n",
            "    (mlp): MLP(\n",
            "      (net): Sequential(\n",
            "        (0): Linear(in_features=256, out_features=256, bias=True)\n",
            "        (1): GELU(approximate='none')\n",
            "        (2): Linear(in_features=256, out_features=256, bias=True)\n",
            "      )\n",
            "    )\n",
            "  )\n",
            "  (mlp_head): MLPHead(\n",
            "    (net): Sequential(\n",
            "      (0): LayerNorm((256,), eps=1e-05, elementwise_affine=True)\n",
            "      (1): Linear(in_features=256, out_features=10, bias=True)\n",
            "    )\n",
            "  )\n",
            ")\n"
          ]
        }
      ],
      "source": [
        "print(cnn_net)\n",
        "print(vit_net)"
      ]
    },
    {
      "cell_type": "markdown",
      "id": "dcaee7e4",
      "metadata": {
        "id": "dcaee7e4"
      },
      "source": [
        "# ViTでの学習"
      ]
    },
    {
      "cell_type": "code",
      "execution_count": 16,
      "id": "03028cbd",
      "metadata": {
        "colab": {
          "base_uri": "https://localhost:8080/"
        },
        "id": "03028cbd",
        "outputId": "fe07476f-e115-447a-db52-ab1b81fa6594"
      },
      "outputs": [
        {
          "output_type": "stream",
          "name": "stdout",
          "text": [
            "[1,  2000] loss: 0.338 , acc:0.038\n",
            "[1,  4000] loss: 0.300 , acc:0.053\n",
            "[1,  6000] loss: 0.283 , acc:0.058\n",
            "[1,  8000] loss: 0.271 , acc:0.062\n",
            "[1, 10000] loss: 0.265 , acc:0.065\n",
            "[1, 12000] loss: 0.259 , acc:0.068\n",
            "[2,  2000] loss: 0.252 , acc:0.069\n",
            "[2,  4000] loss: 0.243 , acc:0.072\n",
            "[2,  6000] loss: 0.240 , acc:0.074\n",
            "[2,  8000] loss: 0.235 , acc:0.076\n",
            "[2, 10000] loss: 0.231 , acc:0.076\n",
            "[2, 12000] loss: 0.229 , acc:0.077\n",
            "Finished Training\n"
          ]
        }
      ],
      "source": [
        "# トレーニングする\n",
        "for epoch in range(2):\n",
        "    running_loss = 0.0\n",
        "    running_acc = 0.0\n",
        "    for i, data in enumerate(trainloader, 0):\n",
        "        inputs, labels = data\n",
        "        # インプットをデバイスに入力\n",
        "        inputs, labels = inputs.to(device), labels.to(device)\n",
        "\n",
        "        optimizer_vit.zero_grad()\n",
        "        outputs = vit_net(inputs)\n",
        "        loss = criterion(outputs, labels)\n",
        "        # 誤差逆伝播\n",
        "        loss.backward()\n",
        "        optimizer_vit.step()\n",
        "        train_loss = loss.item()\n",
        "        running_loss += train_loss/len(trainloader)\n",
        "        train_acc = (outputs.argmax(dim=1) == labels).float().mean()\n",
        "        running_acc += train_acc/len(trainloader)\n",
        "\n",
        "        if i % 2000 == 1999:\n",
        "            print('[%d, %5d] loss: %.3f , acc:%.3f' % (epoch + 1, i + 1, running_loss, running_acc))\n",
        "            running_loss = 0.0\n",
        "            running_acc = 0.0\n",
        "print('Finished Training')"
      ]
    },
    {
      "cell_type": "markdown",
      "id": "c66f0310",
      "metadata": {
        "id": "c66f0310"
      },
      "source": [
        "# CNNでの学習"
      ]
    },
    {
      "cell_type": "code",
      "execution_count": null,
      "id": "baed150e",
      "metadata": {
        "id": "baed150e"
      },
      "outputs": [],
      "source": [
        "# トレーニングする\n",
        "for epoch in range(2):\n",
        "    running_loss = 0.0\n",
        "    running_acc = 0.0\n",
        "    for i, data in enumerate(trainloader, 0):\n",
        "        inputs, labels = data\n",
        "        # Move inputs and labels to the device\n",
        "        inputs, labels = inputs.to(device), labels.to(device)\n",
        "\n",
        "        optimizer_cnn.zero_grad()\n",
        "        outputs = cnn_net(inputs)\n",
        "        # 損失の計算\n",
        "        loss = criterion(outputs, labels)\n",
        "        # 誤差逆伝播\n",
        "        loss.backward()\n",
        "        optimizer_cnn.step()\n",
        "        # 損失と精度の計算\n",
        "        train_loss = loss.item()\n",
        "        running_loss += train_loss / len(trainloader)\n",
        "        # 精度の計算\n",
        "        train_acc = (outputs.argmax(dim=1) == labels).float().mean()\n",
        "        running_acc += train_acc.item() / len(trainloader)\n",
        "        if i % 2000 == 1999:\n",
        "            print('[%d, %5d] loss: %.3f acc: %.3f' % (epoch + 1, i + 1, running_loss, running_acc))\n",
        "            running_loss = 0.0\n",
        "            running_acc = 0.0\n",
        "print('Finished Training')"
      ]
    },
    {
      "cell_type": "code",
      "execution_count": null,
      "id": "7d12f996",
      "metadata": {
        "id": "7d12f996"
      },
      "outputs": [],
      "source": [
        "cnn_Path = './cnn_cifar_net.pth'\n",
        "vit_Path = './vit_cifar_net.pht'\n",
        "torch.save(cnn_net.state_dict(),cnn_Path)\n",
        "torch.save(vit_net.state_dict().vit_Path)"
      ]
    },
    {
      "cell_type": "markdown",
      "id": "a3c30802",
      "metadata": {
        "id": "a3c30802"
      },
      "source": [
        "# 比較"
      ]
    },
    {
      "cell_type": "code",
      "execution_count": null,
      "id": "c51e0376",
      "metadata": {
        "id": "c51e0376"
      },
      "outputs": [],
      "source": []
    }
  ],
  "metadata": {
    "kernelspec": {
      "display_name": "Python 3",
      "name": "python3"
    },
    "language_info": {
      "codemirror_mode": {
        "name": "ipython",
        "version": 3
      },
      "file_extension": ".py",
      "mimetype": "text/x-python",
      "name": "python",
      "nbconvert_exporter": "python",
      "pygments_lexer": "ipython3",
      "version": "3.12.8"
    },
    "colab": {
      "provenance": [],
      "gpuType": "T4",
      "include_colab_link": true
    },
    "accelerator": "GPU"
  },
  "nbformat": 4,
  "nbformat_minor": 5
}